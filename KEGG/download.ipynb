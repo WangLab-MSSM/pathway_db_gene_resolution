{
 "cells": [
  {
   "cell_type": "code",
   "execution_count": 13,
   "id": "antique-mileage",
   "metadata": {},
   "outputs": [],
   "source": [
    "import datetime\n",
    "import json\n",
    "import pickle\n",
    "\n",
    "from bioservices.kegg import KEGG"
   ]
  },
  {
   "cell_type": "code",
   "execution_count": 14,
   "id": "animated-guide",
   "metadata": {},
   "outputs": [],
   "source": [
    "k = KEGG()\n",
    "k.organism = \"hsa\""
   ]
  },
  {
   "cell_type": "code",
   "execution_count": 16,
   "id": "proof-services",
   "metadata": {},
   "outputs": [
    {
     "name": "stdout",
     "output_type": "stream",
     "text": [
      "finished downloading KEGG pathways with API\n"
     ]
    }
   ],
   "source": [
    "k_pw_v_genes = {}\n",
    "for i, pathwayId in enumerate(k.pathwayIds):\n",
    "    entry = k.parse(k.get(pathwayId))\n",
    "    name = entry['NAME'][0].split(' - ')[0]\n",
    "    if 'GENE' not in entry:\n",
    "        continue\n",
    "    genes = [gene.split(';')[0] for keggId, gene in entry['GENE'].items()]\n",
    "    k_pw_v_genes[name] = genes\n",
    "print(f'finished downloading KEGG pathways with API')"
   ]
  },
  {
   "cell_type": "code",
   "execution_count": 17,
   "id": "hidden-perfume",
   "metadata": {},
   "outputs": [],
   "source": [
    "now =  datetime.datetime.now()\n",
    "readme_dict = {\n",
    "    'date_accessed': now.strftime(\"%b %d %Y %H:%M:%S\"),\n",
    "    'pathways': len(k_pw_v_genes),\n",
    "}\n",
    "\n",
    "results = {\n",
    "    'access_log': readme_dict,\n",
    "    'data': k_pw_v_genes\n",
    "}\n",
    "\n",
    "with open(f'results.json', 'w') as fp:\n",
    "        json.dump(results, fp)\n",
    "        \n",
    "pickle.dump(results, open('results.pkl', 'wb'))"
   ]
  },
  {
   "cell_type": "raw",
   "id": "framed-decade",
   "metadata": {},
   "source": [
    "results"
   ]
  },
  {
   "cell_type": "code",
   "execution_count": null,
   "id": "billion-appliance",
   "metadata": {},
   "outputs": [],
   "source": []
  }
 ],
 "metadata": {
  "kernelspec": {
   "display_name": "Python 3",
   "language": "python",
   "name": "python3"
  },
  "language_info": {
   "codemirror_mode": {
    "name": "ipython",
    "version": 3
   },
   "file_extension": ".py",
   "mimetype": "text/x-python",
   "name": "python",
   "nbconvert_exporter": "python",
   "pygments_lexer": "ipython3",
   "version": "3.7.8"
  }
 },
 "nbformat": 4,
 "nbformat_minor": 5
}

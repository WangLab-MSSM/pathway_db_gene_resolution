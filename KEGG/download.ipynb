{
 "cells": [
  {
   "cell_type": "code",
   "execution_count": 10,
   "id": "gross-complex",
   "metadata": {},
   "outputs": [],
   "source": [
    "import datetime\n",
    "import json\n",
    "import pickle\n",
    "\n",
    "from bioservices.kegg import KEGG"
   ]
  },
  {
   "cell_type": "code",
   "execution_count": 2,
   "id": "healthy-bradford",
   "metadata": {},
   "outputs": [],
   "source": [
    "k = KEGG()\n",
    "k.organism = \"hsa\""
   ]
  },
  {
   "cell_type": "code",
   "execution_count": 3,
   "id": "improved-communication",
   "metadata": {
    "collapsed": true,
    "jupyter": {
     "outputs_hidden": true
    }
   },
   "outputs": [
    {
     "name": "stdout",
     "output_type": "stream",
     "text": [
      "finished: Glycolysis / Gluconeogenesis (1/341)\n",
      "finished: Citrate cycle (TCA cycle) (2/341)\n",
      "finished: Pentose phosphate pathway (3/341)\n",
      "finished: Pentose and glucuronate interconversions (4/341)\n",
      "finished: Fructose and mannose metabolism (5/341)\n",
      "finished: Galactose metabolism (6/341)\n",
      "finished: Ascorbate and aldarate metabolism (7/341)\n",
      "finished: Fatty acid biosynthesis (8/341)\n",
      "finished: Fatty acid elongation (9/341)\n",
      "finished: Fatty acid degradation (10/341)\n",
      "finished: Synthesis and degradation of ketone bodies (11/341)\n",
      "finished: Steroid biosynthesis (12/341)\n",
      "finished: Primary bile acid biosynthesis (13/341)\n",
      "finished: Ubiquinone and other terpenoid-quinone biosynthesis (14/341)\n",
      "finished: Steroid hormone biosynthesis (15/341)\n",
      "finished: Oxidative phosphorylation (16/341)\n",
      "finished: Arginine biosynthesis (17/341)\n",
      "finished: Purine metabolism (18/341)\n",
      "finished: Caffeine metabolism (19/341)\n",
      "finished: Pyrimidine metabolism (20/341)\n",
      "finished: Alanine, aspartate and glutamate metabolism (21/341)\n",
      "finished: Glycine, serine and threonine metabolism (22/341)\n",
      "finished: Cysteine and methionine metabolism (23/341)\n",
      "finished: Valine, leucine and isoleucine degradation (24/341)\n",
      "finished: Valine, leucine and isoleucine biosynthesis (25/341)\n",
      "finished: Lysine degradation (26/341)\n",
      "finished: Arginine and proline metabolism (27/341)\n",
      "finished: Histidine metabolism (28/341)\n",
      "finished: Tyrosine metabolism (29/341)\n",
      "finished: Phenylalanine metabolism (30/341)\n",
      "finished: Tryptophan metabolism (31/341)\n",
      "finished: Phenylalanine, tyrosine and tryptophan biosynthesis (32/341)\n",
      "finished: beta-Alanine metabolism (33/341)\n",
      "finished: Taurine and hypotaurine metabolism (34/341)\n",
      "finished: Phosphonate and phosphinate metabolism (35/341)\n",
      "finished: Selenocompound metabolism (36/341)\n",
      "finished: D-Glutamine and D-glutamate metabolism (37/341)\n",
      "finished: D-Arginine and D-ornithine metabolism (38/341)\n",
      "finished: Glutathione metabolism (39/341)\n",
      "finished: Starch and sucrose metabolism (40/341)\n",
      "finished: N-Glycan biosynthesis (41/341)\n",
      "finished: Other glycan degradation (42/341)\n",
      "finished: Mucin type O-glycan biosynthesis (43/341)\n",
      "finished: Various types of N-glycan biosynthesis (44/341)\n",
      "finished: Other types of O-glycan biosynthesis (45/341)\n",
      "finished: Mannose type O-glycan biosynthesis (46/341)\n",
      "finished: Amino sugar and nucleotide sugar metabolism (47/341)\n",
      "finished: Neomycin, kanamycin and gentamicin biosynthesis (48/341)\n",
      "finished: Glycosaminoglycan degradation (49/341)\n",
      "finished: Glycosaminoglycan biosynthesis (50/341)\n",
      "finished: Glycosaminoglycan biosynthesis (51/341)\n",
      "finished: Glycosaminoglycan biosynthesis (52/341)\n",
      "finished: Glycerolipid metabolism (53/341)\n",
      "finished: Inositol phosphate metabolism (54/341)\n",
      "finished: Glycosylphosphatidylinositol (GPI)-anchor biosynthesis (55/341)\n",
      "finished: Glycerophospholipid metabolism (56/341)\n",
      "finished: Ether lipid metabolism (57/341)\n",
      "finished: Arachidonic acid metabolism (58/341)\n",
      "finished: Linoleic acid metabolism (59/341)\n",
      "finished: alpha-Linolenic acid metabolism (60/341)\n",
      "finished: Sphingolipid metabolism (61/341)\n",
      "finished: Glycosphingolipid biosynthesis (62/341)\n",
      "finished: Glycosphingolipid biosynthesis (63/341)\n",
      "finished: Glycosphingolipid biosynthesis (64/341)\n",
      "finished: Pyruvate metabolism (65/341)\n",
      "finished: Glyoxylate and dicarboxylate metabolism (66/341)\n",
      "finished: Propanoate metabolism (67/341)\n",
      "finished: Butanoate metabolism (68/341)\n",
      "finished: One carbon pool by folate (69/341)\n",
      "finished: Thiamine metabolism (70/341)\n",
      "finished: Riboflavin metabolism (71/341)\n",
      "finished: Vitamin B6 metabolism (72/341)\n",
      "finished: Nicotinate and nicotinamide metabolism (73/341)\n",
      "finished: Pantothenate and CoA biosynthesis (74/341)\n",
      "finished: Biotin metabolism (75/341)\n",
      "finished: Lipoic acid metabolism (76/341)\n",
      "finished: Folate biosynthesis (77/341)\n",
      "finished: Retinol metabolism (78/341)\n",
      "finished: Porphyrin and chlorophyll metabolism (79/341)\n",
      "finished: Terpenoid backbone biosynthesis (80/341)\n",
      "finished: Nitrogen metabolism (81/341)\n",
      "finished: Sulfur metabolism (82/341)\n",
      "finished: Aminoacyl-tRNA biosynthesis (83/341)\n",
      "finished: Metabolism of xenobiotics by cytochrome P450 (84/341)\n",
      "finished: Drug metabolism (85/341)\n",
      "finished: Drug metabolism (86/341)\n",
      "finished: Biosynthesis of unsaturated fatty acids (87/341)\n"
     ]
    },
    {
     "ename": "KeyError",
     "evalue": "'GENE'",
     "output_type": "error",
     "traceback": [
      "\u001b[0;31m---------------------------------------------------------------------------\u001b[0m",
      "\u001b[0;31mKeyError\u001b[0m                                  Traceback (most recent call last)",
      "\u001b[0;32m<ipython-input-3-da6b8b3a793e>\u001b[0m in \u001b[0;36m<module>\u001b[0;34m\u001b[0m\n\u001b[1;32m      3\u001b[0m     \u001b[0mentry\u001b[0m \u001b[0;34m=\u001b[0m \u001b[0mk\u001b[0m\u001b[0;34m.\u001b[0m\u001b[0mparse\u001b[0m\u001b[0;34m(\u001b[0m\u001b[0mk\u001b[0m\u001b[0;34m.\u001b[0m\u001b[0mget\u001b[0m\u001b[0;34m(\u001b[0m\u001b[0mpathwayId\u001b[0m\u001b[0;34m)\u001b[0m\u001b[0;34m)\u001b[0m\u001b[0;34m\u001b[0m\u001b[0;34m\u001b[0m\u001b[0m\n\u001b[1;32m      4\u001b[0m     \u001b[0mname\u001b[0m \u001b[0;34m=\u001b[0m \u001b[0mentry\u001b[0m\u001b[0;34m[\u001b[0m\u001b[0;34m'NAME'\u001b[0m\u001b[0;34m]\u001b[0m\u001b[0;34m[\u001b[0m\u001b[0;36m0\u001b[0m\u001b[0;34m]\u001b[0m\u001b[0;34m.\u001b[0m\u001b[0msplit\u001b[0m\u001b[0;34m(\u001b[0m\u001b[0;34m' - '\u001b[0m\u001b[0;34m)\u001b[0m\u001b[0;34m[\u001b[0m\u001b[0;36m0\u001b[0m\u001b[0;34m]\u001b[0m\u001b[0;34m\u001b[0m\u001b[0;34m\u001b[0m\u001b[0m\n\u001b[0;32m----> 5\u001b[0;31m     \u001b[0mgenes\u001b[0m \u001b[0;34m=\u001b[0m \u001b[0;34m[\u001b[0m\u001b[0mgene\u001b[0m\u001b[0;34m.\u001b[0m\u001b[0msplit\u001b[0m\u001b[0;34m(\u001b[0m\u001b[0;34m';'\u001b[0m\u001b[0;34m)\u001b[0m\u001b[0;34m[\u001b[0m\u001b[0;36m0\u001b[0m\u001b[0;34m]\u001b[0m \u001b[0;32mfor\u001b[0m \u001b[0mkeggId\u001b[0m\u001b[0;34m,\u001b[0m \u001b[0mgene\u001b[0m \u001b[0;32min\u001b[0m \u001b[0mentry\u001b[0m\u001b[0;34m[\u001b[0m\u001b[0;34m'GENE'\u001b[0m\u001b[0;34m]\u001b[0m\u001b[0;34m.\u001b[0m\u001b[0mitems\u001b[0m\u001b[0;34m(\u001b[0m\u001b[0;34m)\u001b[0m\u001b[0;34m]\u001b[0m\u001b[0;34m\u001b[0m\u001b[0;34m\u001b[0m\u001b[0m\n\u001b[0m\u001b[1;32m      6\u001b[0m     \u001b[0mk_pw_v_genes\u001b[0m\u001b[0;34m[\u001b[0m\u001b[0mname\u001b[0m\u001b[0;34m]\u001b[0m \u001b[0;34m=\u001b[0m \u001b[0mgenes\u001b[0m\u001b[0;34m\u001b[0m\u001b[0;34m\u001b[0m\u001b[0m\n\u001b[1;32m      7\u001b[0m     \u001b[0mprint\u001b[0m\u001b[0;34m(\u001b[0m\u001b[0;34mf'finished: {name} ({i+1}/{len(k.pathwayIds)})'\u001b[0m\u001b[0;34m)\u001b[0m\u001b[0;34m\u001b[0m\u001b[0;34m\u001b[0m\u001b[0m\n",
      "\u001b[0;31mKeyError\u001b[0m: 'GENE'"
     ]
    }
   ],
   "source": [
    "k_pw_v_genes = {}\n",
    "for i, pathwayId in enumerate(k.pathwayIds):\n",
    "    entry = k.parse(k.get(pathwayId))\n",
    "    name = entry['NAME'][0].split(' - ')[0]\n",
    "    genes = [gene.split(';')[0] for keggId, gene in entry['GENE'].items()]\n",
    "    k_pw_v_genes[name] = genes\n",
    "    print(f'finished: {name} ({i+1}/{len(k.pathwayIds)})')"
   ]
  },
  {
   "cell_type": "code",
   "execution_count": 6,
   "id": "fatal-attention",
   "metadata": {},
   "outputs": [],
   "source": [
    "pickle.dump(k_pw_v_genes, open('k_pw_v_genes_unmapped.pkl', 'wb'))"
   ]
  },
  {
   "cell_type": "code",
   "execution_count": 9,
   "id": "civil-faculty",
   "metadata": {},
   "outputs": [],
   "source": [
    "now =  datetime.datetime.now()\n",
    "readme_dict = {\n",
    "    'date_accessed': now.strftime(\"%b %d %Y %H:%M:%S\"),\n",
    "    'pathways': len(k.pathwayIds),\n",
    "}\n",
    "\n",
    "with open(f'README.json', 'w') as fp:\n",
    "        json.dump(readme_dict, fp)\n",
    "        \n",
    "pickle.dump(readme_dict, open('README.pkl', 'wb'))"
   ]
  }
 ],
 "metadata": {
  "kernelspec": {
   "display_name": "Python 3",
   "language": "python",
   "name": "python3"
  },
  "language_info": {
   "codemirror_mode": {
    "name": "ipython",
    "version": 3
   },
   "file_extension": ".py",
   "mimetype": "text/x-python",
   "name": "python",
   "nbconvert_exporter": "python",
   "pygments_lexer": "ipython3",
   "version": "3.7.8"
  }
 },
 "nbformat": 4,
 "nbformat_minor": 5
}

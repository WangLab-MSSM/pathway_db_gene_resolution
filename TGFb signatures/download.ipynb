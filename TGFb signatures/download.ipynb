{
 "cells": [
  {
   "cell_type": "code",
   "execution_count": 1,
   "id": "adolescent-austria",
   "metadata": {},
   "outputs": [],
   "source": [
    "import json\n",
    "import datetime\n",
    "import pickle\n",
    "\n",
    "import pandas as pd"
   ]
  },
  {
   "cell_type": "code",
   "execution_count": 5,
   "id": "published-nation",
   "metadata": {},
   "outputs": [],
   "source": [
    "balt_files = [\n",
    "    'balt_signature_gene_functions__altEJ_in_literature.csv',\n",
    "    'balt_signature_gene_functions__TGFb_up_in_literature.csv',\n",
    "]"
   ]
  },
  {
   "cell_type": "code",
   "execution_count": 28,
   "id": "animal-stephen",
   "metadata": {},
   "outputs": [],
   "source": [
    "k_pw_v_genes = {}\n",
    "for balt_file in balt_files:\n",
    "    pw = ' '.join(balt_file.split('__')[1].split('_')).split('.')[0]\n",
    "    genes = [x.split(' or ')[0].strip()  if ' or ' in x else x.strip() for x in pd.read_csv(balt_file)['Gene name'].values]\n",
    "    k_pw_v_genes[pw] = genes"
   ]
  },
  {
   "cell_type": "code",
   "execution_count": 29,
   "id": "apart-stack",
   "metadata": {},
   "outputs": [],
   "source": [
    "now =  datetime.datetime.now()\n",
    "readme_dict = {\n",
    "    'date_accessed': now.strftime(\"%b %d %Y %H:%M:%S\"),\n",
    "    'pathways': len(k_pw_v_genes),\n",
    "}\n",
    "\n",
    "results = {\n",
    "    'access_log': readme_dict,\n",
    "    'data': k_pw_v_genes\n",
    "}\n",
    "\n",
    "with open(f'results.json', 'w') as fp:\n",
    "        json.dump(results, fp)\n",
    "        \n",
    "pickle.dump(results, open('results.pkl', 'wb'))"
   ]
  },
  {
   "cell_type": "code",
   "execution_count": 30,
   "id": "exterior-slope",
   "metadata": {},
   "outputs": [
    {
     "data": {
      "text/plain": [
       "{'date_accessed': 'Feb 15 2021 10:38:23', 'pathways': 2}"
      ]
     },
     "execution_count": 30,
     "metadata": {},
     "output_type": "execute_result"
    }
   ],
   "source": [
    "results['access_log']"
   ]
  },
  {
   "cell_type": "code",
   "execution_count": 31,
   "id": "mathematical-empire",
   "metadata": {},
   "outputs": [
    {
     "data": {
      "text/plain": [
       "{'altEJ in literature': ['APE2',\n",
       "  'APEX1',\n",
       "  'ASF1A',\n",
       "  'CDKN2D',\n",
       "  'CIB1',\n",
       "  'DNA2',\n",
       "  'FAAP24',\n",
       "  'FANCM',\n",
       "  'GEN1',\n",
       "  'HRAS1',\n",
       "  'LIG1',\n",
       "  'LIG3',\n",
       "  'MEN1',\n",
       "  'MRE11A',\n",
       "  'MSH3',\n",
       "  'MSH6',\n",
       "  'MTH1',\n",
       "  'MTOR',\n",
       "  'NABP2',\n",
       "  'NTHL1',\n",
       "  'PALB2',\n",
       "  'PARP1',\n",
       "  'PARP3',\n",
       "  'POLA1',\n",
       "  'POLM',\n",
       "  'POLQ',\n",
       "  'PRP19',\n",
       "  'RAD51D',\n",
       "  'RBBP8',\n",
       "  'RRM2',\n",
       "  'RUVBL2',\n",
       "  'SOD1',\n",
       "  'TIP60',\n",
       "  'UNG',\n",
       "  'WRN',\n",
       "  'XRCC1'],\n",
       " 'TGFb up in literature': ['ABCG1',\n",
       "  'AMIGO2',\n",
       "  'CA12',\n",
       "  'CCDC99',\n",
       "  'CCL20',\n",
       "  'CHRNA9',\n",
       "  'COL4A2',\n",
       "  'CTGF',\n",
       "  'DLC1',\n",
       "  'DNAJB9',\n",
       "  'DSC2',\n",
       "  'ENC1',\n",
       "  'F3',\n",
       "  'FAP',\n",
       "  'FGF2',\n",
       "  'FN1',\n",
       "  'HEY1',\n",
       "  'HMGA2',\n",
       "  'ID1',\n",
       "  'IGF2BP3',\n",
       "  'IGFBP3',\n",
       "  'JAG1',\n",
       "  'KLF4',\n",
       "  'LAMB3',\n",
       "  'LARP6',\n",
       "  'LIPG',\n",
       "  'MAFF',\n",
       "  'MMD',\n",
       "  'PDGFC',\n",
       "  'PLEK2',\n",
       "  'PLXNA2',\n",
       "  'POSTN',\n",
       "  'PSCD1',\n",
       "  'RNF24',\n",
       "  'RICS',\n",
       "  'RUNX1',\n",
       "  'SAMSN1',\n",
       "  'LAMC2',\n",
       "  'SERPINE2',\n",
       "  'SERPINE1',\n",
       "  'SH2D2A',\n",
       "  'SH2D4A',\n",
       "  'SLC20A1',\n",
       "  'SLC22A4',\n",
       "  'TMEPAI',\n",
       "  'TGIF1',\n",
       "  'THBS1',\n",
       "  'TNC',\n",
       "  'TNFRSF12A',\n",
       "  'VCAN']}"
      ]
     },
     "execution_count": 31,
     "metadata": {},
     "output_type": "execute_result"
    }
   ],
   "source": [
    "k_pw_v_genes"
   ]
  },
  {
   "cell_type": "code",
   "execution_count": null,
   "id": "natural-swiss",
   "metadata": {},
   "outputs": [],
   "source": []
  }
 ],
 "metadata": {
  "kernelspec": {
   "display_name": "Python 3",
   "language": "python",
   "name": "python3"
  },
  "language_info": {
   "codemirror_mode": {
    "name": "ipython",
    "version": 3
   },
   "file_extension": ".py",
   "mimetype": "text/x-python",
   "name": "python",
   "nbconvert_exporter": "python",
   "pygments_lexer": "ipython3",
   "version": "3.7.8"
  }
 },
 "nbformat": 4,
 "nbformat_minor": 5
}

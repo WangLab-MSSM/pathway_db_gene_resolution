{
 "cells": [
  {
   "cell_type": "code",
   "execution_count": 3,
   "id": "laughing-jungle",
   "metadata": {},
   "outputs": [
    {
     "name": "stdout",
     "output_type": "stream",
     "text": [
      "Downloading zip file\n"
     ]
    }
   ],
   "source": [
    "import datetime, zipfile, urllib.request, shutil, csv\n",
    "\n",
    "import pickle"
   ]
  },
  {
   "cell_type": "code",
   "execution_count": 6,
   "id": "mineral-impossible",
   "metadata": {},
   "outputs": [
    {
     "name": "stdout",
     "output_type": "stream",
     "text": [
      "Downloading zip file\n"
     ]
    }
   ],
   "source": [
    "url = 'http://reactome.org/download/current/ReactomePathways.gmt.zip'\n",
    "file_name = 'ReactomePathways.zip'\n",
    "\n",
    "print('Downloading zip file')\n",
    "with urllib.request.urlopen(url) as response, open(file_name, 'wb') as out_file:\n",
    "    shutil.copyfileobj(response, out_file)\n",
    "    with zipfile.ZipFile(file_name) as zf:\n",
    "        zf.extractall()\n",
    "        \n",
    "with open('ReactomePathways.gmt') as csv_file:\n",
    "    csv_reader = csv.reader(csv_file, delimiter='\\t')\n",
    "    k_pw_v_genes = {\n",
    "        p[0]: list(set(p[2:]))\n",
    "        for p in csv_reader\n",
    "    }"
   ]
  },
  {
   "cell_type": "code",
   "execution_count": 7,
   "id": "negative-arthritis",
   "metadata": {},
   "outputs": [],
   "source": [
    "pickle.dump(k_pw_v_genes, open('k_pw_v_genes_unmapped.pkl', 'wb'))"
   ]
  },
  {
   "cell_type": "code",
   "execution_count": 9,
   "id": "tight-warrior",
   "metadata": {},
   "outputs": [],
   "source": [
    "now =  datetime.datetime.now()\n",
    "readme_dict = {\n",
    "    'date_accessed': now.strftime(\"%b %d %Y %H:%M:%S\"),\n",
    "    'pathways': len(k_pw_v_genes),\n",
    "}\n",
    "\n",
    "pickle.dump(readme_dict, open('README.pkl', 'wb'))"
   ]
  },
  {
   "cell_type": "code",
   "execution_count": 10,
   "id": "ancient-patient",
   "metadata": {},
   "outputs": [
    {
     "data": {
      "text/plain": [
       "{'date_accessed': 'Feb 10 2021 20:17:29', 'pathways': 2444}"
      ]
     },
     "execution_count": 10,
     "metadata": {},
     "output_type": "execute_result"
    }
   ],
   "source": [
    "readme_dict"
   ]
  },
  {
   "cell_type": "code",
   "execution_count": null,
   "id": "registered-likelihood",
   "metadata": {},
   "outputs": [],
   "source": []
  }
 ],
 "metadata": {
  "kernelspec": {
   "display_name": "Python 3",
   "language": "python",
   "name": "python3"
  },
  "language_info": {
   "codemirror_mode": {
    "name": "ipython",
    "version": 3
   },
   "file_extension": ".py",
   "mimetype": "text/x-python",
   "name": "python",
   "nbconvert_exporter": "python",
   "pygments_lexer": "ipython3",
   "version": "3.7.8"
  }
 },
 "nbformat": 4,
 "nbformat_minor": 5
}

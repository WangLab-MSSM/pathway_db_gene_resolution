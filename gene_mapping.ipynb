{
 "cells": [
  {
   "cell_type": "code",
   "execution_count": 82,
   "id": "solid-priest",
   "metadata": {},
   "outputs": [],
   "source": [
    "import csv\n",
    "import json\n",
    "import datetime\n",
    "import pickle\n",
    "\n",
    "import pandas as pd"
   ]
  },
  {
   "cell_type": "code",
   "execution_count": 42,
   "id": "opening-thickness",
   "metadata": {},
   "outputs": [],
   "source": [
    "k_alias_v_approvedSymbol = pickle.load(open('HGNC/k_alias_v_approvedSymbol.pkl', 'rb'))\n",
    "hgnc_readme = pickle.load(open('HGNC/README.pkl', 'rb'))"
   ]
  },
  {
   "cell_type": "markdown",
   "id": "third-louisiana",
   "metadata": {},
   "source": [
    "**NOTE**\n",
    "\n",
    "The tricky thing is what if you have an alias that maps to multiple approved gene symbols (eg `ASP`)?\n",
    "\n",
    "ASP: ['ASIP', 'ATG5', 'TMPRSS11D', 'ROPN1L', 'ASPM', 'A1CF', 'ASPA']\n",
    "\n",
    "For now, I skip these and mark them for manual review. There are 2018 genes for which this is the case.\n",
    "\n",
    "Would it make sense to just choose one of the approved symbols?"
   ]
  },
  {
   "cell_type": "code",
   "execution_count": 20,
   "id": "outdoor-richards",
   "metadata": {},
   "outputs": [
    {
     "name": "stdout",
     "output_type": "stream",
     "text": [
      "There are 2018 aliases mapped to multiple approved symbols\n",
      "Aliases before removal : 97266\n",
      "Dictionary after removal of keys : 95248\n"
     ]
    }
   ],
   "source": [
    "issue_aliases = [x for x, aliases in k_alias_v_approvedSymbol.items() if len(aliases) >1]\n",
    "print(f\"There are {len(issue_aliases)} aliases mapped to multiple approved symbols\")\n",
    "\n",
    "print(f\"Aliases before removal : {len(k_alias_v_approvedSymbol)}\") \n",
    "[k_alias_v_approvedSymbol.pop(key) for key in issue_aliases]\n",
    "print(f\"Dictionary after removal of keys : {len(k_alias_v_approvedSymbol)}\") "
   ]
  },
  {
   "cell_type": "markdown",
   "id": "sticky-sleep",
   "metadata": {},
   "source": [
    "**MAIN FUNCTION**"
   ]
  },
  {
   "cell_type": "code",
   "execution_count": 109,
   "id": "cooperative-theme",
   "metadata": {},
   "outputs": [],
   "source": [
    "def resolve_genes(db):\n",
    "    k_pw_v_genes = pickle.load(open(f'{db}/k_pw_v_genes_unmapped.pkl', 'rb'))\n",
    "    readme = pickle.load(open(f'{db}/README.pkl', 'rb'))\n",
    "    readme_logging = {\n",
    "        'Pathway_db': db,\n",
    "        'date_accessed': readme['date_accessed'],\n",
    "        'Date_gene_mapped': datetime.datetime.now().strftime(\"%b %d %Y %H:%M:%S\"),\n",
    "        'HGNC_date_accessed': hgnc_readme['date_accessed'],\n",
    "    }\n",
    "    pathway_change_tracking = {}\n",
    "    \n",
    "    k_pw_v_approvedSymbols = {}\n",
    "\n",
    "    for pw, genes in k_pw_v_genes.items():\n",
    "        k_pw_v_approvedSymbols[pw] = []\n",
    "        not_found = []\n",
    "        changed = {}\n",
    "        for gene in genes:\n",
    "            if gene not in k_alias_v_approvedSymbol:\n",
    "                not_found.append(gene)\n",
    "                k_pw_v_approvedSymbols[pw].append(gene)\n",
    "            else:\n",
    "                approved_symbol = k_alias_v_approvedSymbol[gene][0]\n",
    "                k_pw_v_approvedSymbols[pw].append(approved_symbol)\n",
    "                if approved_symbol != gene:\n",
    "                    changed[gene] = approved_symbol\n",
    "        pathway_change_tracking[pw] = {\n",
    "            'len_changed': len(changed),\n",
    "            'len_not_found': len(not_found),\n",
    "            'not_found': not_found,\n",
    "            'changed': changed,\n",
    "        }\n",
    "    with open(f'gene_mapped/{db}/README.json', 'w') as fp:\n",
    "        json.dump(readme_logging, fp)\n",
    "    pickle.dump(readme_logging, open(f'gene_mapped/{db}/README.pkl', 'wb'))\n",
    "    pickle.dump(k_pw_v_approvedSymbols, open(f'gene_mapped/{db}/dict.pkl', 'wb'))\n",
    "    pd.DataFrame.from_dict(pathway_change_tracking).T.to_csv(f'gene_mapped/{db}/changelog.tsv', sep='\\t')\n",
    "    pathway_df = pd.DataFrame(dict([ (k,pd.Series(v)) for k,v in k_pw_v_approvedSymbols.items() ])).T\n",
    "    pathway_df.insert(0,'Source',db)\n",
    "    pathway_df.to_csv(f'gene_mapped/{db}/{db}.gmt', sep='\\t', header=None)\n",
    "    return pathway_df"
   ]
  },
  {
   "cell_type": "code",
   "execution_count": 111,
   "id": "logical-reality",
   "metadata": {},
   "outputs": [],
   "source": [
    "dbs = ['Hallmark', 'KEGG', 'Reactome']\n",
    "for db in dbs:\n",
    "    resolve_genes(db)\n"
   ]
  },
  {
   "cell_type": "code",
   "execution_count": null,
   "id": "nearby-guitar",
   "metadata": {
    "jupyter": {
     "source_hidden": true
    }
   },
   "outputs": [],
   "source": []
  }
 ],
 "metadata": {
  "kernelspec": {
   "display_name": "Python 3",
   "language": "python",
   "name": "python3"
  },
  "language_info": {
   "codemirror_mode": {
    "name": "ipython",
    "version": 3
   },
   "file_extension": ".py",
   "mimetype": "text/x-python",
   "name": "python",
   "nbconvert_exporter": "python",
   "pygments_lexer": "ipython3",
   "version": "3.7.8"
  }
 },
 "nbformat": 4,
 "nbformat_minor": 5
}

{
 "cells": [
  {
   "cell_type": "code",
   "execution_count": 39,
   "id": "choice-combat",
   "metadata": {},
   "outputs": [],
   "source": [
    "import datetime\n",
    "import pickle\n",
    "\n",
    "import rpy2"
   ]
  },
  {
   "cell_type": "code",
   "execution_count": 40,
   "id": "organizational-murder",
   "metadata": {},
   "outputs": [
    {
     "name": "stdout",
     "output_type": "stream",
     "text": [
      "The rpy2.ipython extension is already loaded. To reload it, use:\n",
      "  %reload_ext rpy2.ipython\n"
     ]
    }
   ],
   "source": [
    "%load_ext rpy2.ipython"
   ]
  },
  {
   "cell_type": "code",
   "execution_count": 41,
   "id": "reverse-black",
   "metadata": {},
   "outputs": [],
   "source": [
    "%%R -o hallmark_gene_sets\n",
    "\n",
    "library(\"msigdbr\")\n",
    "\n",
    "hallmark_gene_sets = msigdbr(species = \"Homo sapiens\", category = \"H\")"
   ]
  },
  {
   "cell_type": "code",
   "execution_count": 42,
   "id": "velvet-declaration",
   "metadata": {},
   "outputs": [],
   "source": [
    "k_pw_v_genes = hallmark_gene_sets.groupby('gs_name')['gene_symbol'].apply(list).to_dict()"
   ]
  },
  {
   "cell_type": "code",
   "execution_count": 44,
   "id": "identical-transfer",
   "metadata": {},
   "outputs": [],
   "source": [
    "pickle.dump(k_pw_v_genes, open('k_pw_v_genes_unmapped.pkl', 'wb'))\n",
    "pw_df = pd.DataFrame(dict([ (k,pd.Series(v)) for k,v in bop.items() ]))\n",
    "pickle.dump(pw_df, open('pw_df.pkl', 'wb'))\n",
    "\n",
    "now =  datetime.datetime.now()\n",
    "readme_dict = {\n",
    "    'date_accessed': now.strftime(\"%b %d %Y %H:%M:%S\"),\n",
    "    'pathways': len(k_pw_v_genes),\n",
    "}\n",
    "\n",
    "pickle.dump(readme_dict, open('README.pkl', 'wb'))"
   ]
  },
  {
   "cell_type": "code",
   "execution_count": null,
   "id": "willing-blond",
   "metadata": {},
   "outputs": [],
   "source": []
  }
 ],
 "metadata": {
  "kernelspec": {
   "display_name": "Python 3",
   "language": "python",
   "name": "python3"
  },
  "language_info": {
   "codemirror_mode": {
    "name": "ipython",
    "version": 3
   },
   "file_extension": ".py",
   "mimetype": "text/x-python",
   "name": "python",
   "nbconvert_exporter": "python",
   "pygments_lexer": "ipython3",
   "version": "3.7.8"
  }
 },
 "nbformat": 4,
 "nbformat_minor": 5
}

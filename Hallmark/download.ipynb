{
 "cells": [
  {
   "cell_type": "code",
   "execution_count": 13,
   "id": "recovered-supply",
   "metadata": {},
   "outputs": [],
   "source": [
    "import json\n",
    "import datetime\n",
    "import pickle\n",
    "\n",
    "import rpy2"
   ]
  },
  {
   "cell_type": "code",
   "execution_count": 14,
   "id": "united-paris",
   "metadata": {},
   "outputs": [
    {
     "name": "stdout",
     "output_type": "stream",
     "text": [
      "The rpy2.ipython extension is already loaded. To reload it, use:\n",
      "  %reload_ext rpy2.ipython\n"
     ]
    }
   ],
   "source": [
    "%load_ext rpy2.ipython"
   ]
  },
  {
   "cell_type": "code",
   "execution_count": 15,
   "id": "adult-treasurer",
   "metadata": {},
   "outputs": [],
   "source": [
    "%%R -o hallmark_gene_sets\n",
    "\n",
    "library(\"msigdbr\")\n",
    "\n",
    "hallmark_gene_sets = msigdbr(species = \"Homo sapiens\", category = \"H\")"
   ]
  },
  {
   "cell_type": "code",
   "execution_count": 16,
   "id": "weird-melissa",
   "metadata": {},
   "outputs": [],
   "source": [
    "k_pw_v_genes = hallmark_gene_sets.groupby('gs_name')['gene_symbol'].apply(list).to_dict()"
   ]
  },
  {
   "cell_type": "code",
   "execution_count": 17,
   "id": "related-panama",
   "metadata": {},
   "outputs": [],
   "source": [
    "now =  datetime.datetime.now()\n",
    "readme_dict = {\n",
    "    'date_accessed': now.strftime(\"%b %d %Y %H:%M:%S\"),\n",
    "    'pathways': len(k_pw_v_genes),\n",
    "}\n",
    "\n",
    "results = {\n",
    "    'access_log': readme_dict,\n",
    "    'data': k_pw_v_genes\n",
    "}\n",
    "\n",
    "with open(f'results.json', 'w') as fp:\n",
    "        json.dump(results, fp)\n",
    "        \n",
    "pickle.dump(results, open('results.pkl', 'wb'))"
   ]
  },
  {
   "cell_type": "code",
   "execution_count": 18,
   "id": "black-viewer",
   "metadata": {},
   "outputs": [
    {
     "data": {
      "text/plain": [
       "{'date_accessed': 'Feb 11 2021 10:46:58', 'pathways': 50}"
      ]
     },
     "execution_count": 18,
     "metadata": {},
     "output_type": "execute_result"
    }
   ],
   "source": [
    "results['access_log']"
   ]
  },
  {
   "cell_type": "code",
   "execution_count": null,
   "id": "biblical-domain",
   "metadata": {},
   "outputs": [],
   "source": []
  }
 ],
 "metadata": {
  "kernelspec": {
   "display_name": "Python 3",
   "language": "python",
   "name": "python3"
  },
  "language_info": {
   "codemirror_mode": {
    "name": "ipython",
    "version": 3
   },
   "file_extension": ".py",
   "mimetype": "text/x-python",
   "name": "python",
   "nbconvert_exporter": "python",
   "pygments_lexer": "ipython3",
   "version": "3.7.8"
  }
 },
 "nbformat": 4,
 "nbformat_minor": 5
}

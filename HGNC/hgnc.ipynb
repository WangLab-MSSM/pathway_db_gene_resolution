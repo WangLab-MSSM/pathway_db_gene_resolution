{
 "cells": [
  {
   "cell_type": "code",
   "execution_count": 38,
   "id": "detailed-massachusetts",
   "metadata": {},
   "outputs": [],
   "source": [
    "import datetime\n",
    "import itertools\n",
    "import pickle\n",
    "\n",
    "import pandas as pd"
   ]
  },
  {
   "cell_type": "code",
   "execution_count": 39,
   "id": "ordered-cookbook",
   "metadata": {},
   "outputs": [],
   "source": [
    "url = 'https://www.genenames.org/cgi-bin/download/custom?col=gd_app_sym&col=gd_prev_sym&col=gd_aliases&status=Approved&hgnc_dbtag=on&order_by=gd_app_sym_sort&format=text&submit=submit'"
   ]
  },
  {
   "cell_type": "code",
   "execution_count": 40,
   "id": "catholic-pathology",
   "metadata": {},
   "outputs": [],
   "source": [
    "import pandas as pd\n",
    "cols = ['Previous symbols', 'Alias symbols']\n",
    "hgnc = pd.read_csv(url, sep='\\t')"
   ]
  },
  {
   "cell_type": "code",
   "execution_count": 41,
   "id": "neither-enclosure",
   "metadata": {},
   "outputs": [],
   "source": [
    "hgnc.set_index('Approved symbol', inplace=True)"
   ]
  },
  {
   "cell_type": "code",
   "execution_count": 49,
   "id": "adopted-letters",
   "metadata": {},
   "outputs": [],
   "source": [
    "k_symbol_v_aliases = {}\n",
    "for gene, aliases in hgnc.iterrows():\n",
    "    if not isinstance(gene, str):\n",
    "        continue\n",
    "    if gene[0] == ' ':\n",
    "        gene = gene[1:]\n",
    "    alias_strings = list(\n",
    "        itertools.chain(*\n",
    "                        [x.split(',') for x in aliases if isinstance(x, str)]\n",
    "                        )\n",
    "    )\n",
    "    if not len(alias_strings):\n",
    "        k_symbol_v_aliases[gene] = [gene]\n",
    "    else:\n",
    "        k_symbol_v_aliases[gene] = alias_strings\n",
    "\n",
    "k_symbol_v_aliases_clean = {}\n",
    "for gene, aliases in k_symbol_v_aliases.items():\n",
    "    k_symbol_v_aliases_clean[gene] = [x if x[0] != ' ' else x[1:] for x in aliases]\n",
    "\n",
    "pickle.dump(k_symbol_v_aliases_clean, open('k_approvedSymbol_v_aliases.pkl', 'wb'))"
   ]
  },
  {
   "cell_type": "code",
   "execution_count": 53,
   "id": "liquid-columbus",
   "metadata": {},
   "outputs": [],
   "source": [
    "k_alias_v_official = {}\n",
    "for gene, aliases in k_symbol_v_aliases_clean.items():\n",
    "    if gene not in k_alias_v_official:\n",
    "        k_alias_v_official[gene] = set()\n",
    "    k_alias_v_official[gene].add(gene)\n",
    "    for a in aliases:\n",
    "        if a not in k_alias_v_official:\n",
    "            k_alias_v_official[a] = set()\n",
    "        k_alias_v_official[a].add(gene)\n",
    "\n",
    "final_k_alias_v_official = {gene: list(aliases) for gene, aliases in k_alias_v_official.items()}\n",
    "pickle.dump(\n",
    "    final_k_alias_v_official,\n",
    "    open('k_alias_v_approvedSymbol.pkl', 'wb')\n",
    ")"
   ]
  },
  {
   "cell_type": "code",
   "execution_count": 62,
   "id": "hidden-license",
   "metadata": {},
   "outputs": [],
   "source": [
    "now =  datetime.datetime.now()\n",
    "readme_dict = {\n",
    "    'date_accessed': now.strftime(\"%b %d %Y %H:%M:%S\"),\n",
    "    'num_approved_symbols': len(k_symbol_v_aliases),\n",
    "    'num_all_symbols': len(final_k_alias_v_official),\n",
    "}\n",
    "\n",
    "pickle.dump(readme_dict, open('HGNC/README.pkl', 'wb'))"
   ]
  },
  {
   "cell_type": "markdown",
   "id": "british-swimming",
   "metadata": {},
   "source": [
    "**Background**\n",
    "\n",
    "Seurat R toolkit for single cell genomics\n",
    "https://satijalab.org/seurat/\n",
    "https://www.rdocumentation.org/packages/Seurat/versions/4.0.0/topics/UpdateSymbolList\n",
    "\n",
    "\"For each symbol passed, we query the HGNC gene names database for current symbols that have the provided symbol as either an alias (alias_symbol) or old (prev_symbol) symbol. All other queries are not supported.\"\n",
    "\n",
    "Stuart*, Butler*, et al., Cell 2019 [Seurat V3]"
   ]
  }
 ],
 "metadata": {
  "kernelspec": {
   "display_name": "Python 3",
   "language": "python",
   "name": "python3"
  },
  "language_info": {
   "codemirror_mode": {
    "name": "ipython",
    "version": 3
   },
   "file_extension": ".py",
   "mimetype": "text/x-python",
   "name": "python",
   "nbconvert_exporter": "python",
   "pygments_lexer": "ipython3",
   "version": "3.7.8"
  }
 },
 "nbformat": 4,
 "nbformat_minor": 5
}

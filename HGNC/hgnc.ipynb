{
 "cells": [
  {
   "cell_type": "code",
   "execution_count": 12,
   "id": "nasty-ballet",
   "metadata": {},
   "outputs": [],
   "source": [
    "import datetime\n",
    "import itertools\n",
    "import json\n",
    "import pickle\n",
    "\n",
    "import pandas as pd"
   ]
  },
  {
   "cell_type": "code",
   "execution_count": 2,
   "id": "celtic-worth",
   "metadata": {},
   "outputs": [],
   "source": [
    "url = 'https://www.genenames.org/cgi-bin/download/custom?col=gd_app_sym&col=gd_prev_sym&col=gd_aliases&status=Approved&hgnc_dbtag=on&order_by=gd_app_sym_sort&format=text&submit=submit'"
   ]
  },
  {
   "cell_type": "code",
   "execution_count": 3,
   "id": "tutorial-upper",
   "metadata": {},
   "outputs": [],
   "source": [
    "import pandas as pd\n",
    "cols = ['Previous symbols', 'Alias symbols']\n",
    "hgnc = pd.read_csv(url, sep='\\t')"
   ]
  },
  {
   "cell_type": "code",
   "execution_count": 4,
   "id": "center-guarantee",
   "metadata": {},
   "outputs": [],
   "source": [
    "hgnc.set_index('Approved symbol', inplace=True)"
   ]
  },
  {
   "cell_type": "code",
   "execution_count": 5,
   "id": "architectural-chapel",
   "metadata": {},
   "outputs": [],
   "source": [
    "k_symbol_v_aliases = {}\n",
    "approved_symbols = set(hgnc.index)\n",
    "for gene, aliases in hgnc.iterrows():\n",
    "    if not isinstance(gene, str):\n",
    "        continue\n",
    "    if gene[0] == ' ':\n",
    "        gene = gene[1:]\n",
    "    alias_strings = list(\n",
    "        itertools.chain(*\n",
    "                        [x.split(',') for x in aliases if isinstance(x, str)]\n",
    "                        )\n",
    "    )\n",
    "    if not len(alias_strings):\n",
    "        k_symbol_v_aliases[gene] = [gene]\n",
    "    else:\n",
    "        k_symbol_v_aliases[gene] = alias_strings\n",
    "\n",
    "k_symbol_v_aliases_clean = {}\n",
    "for gene, aliases in k_symbol_v_aliases.items():\n",
    "    k_symbol_v_aliases_clean[gene] = [x if x[0] != ' ' else x[1:] for x in aliases]\n",
    "\n",
    "pickle.dump(k_symbol_v_aliases_clean, open('k_approvedSymbol_v_aliases.pkl', 'wb'))"
   ]
  },
  {
   "cell_type": "code",
   "execution_count": 9,
   "id": "threatened-acceptance",
   "metadata": {},
   "outputs": [],
   "source": [
    "k_alias_v_official = {}\n",
    "for gene, aliases in k_symbol_v_aliases_clean.items():\n",
    "    if gene not in k_alias_v_official:\n",
    "        k_alias_v_official[gene] = set()\n",
    "    k_alias_v_official[gene].add(gene)\n",
    "    for a in aliases:\n",
    "        if a in approved_symbols:\n",
    "            k_alias_v_official[a] = {a}\n",
    "            continue\n",
    "        if a not in k_alias_v_official:\n",
    "            k_alias_v_official[a] = set()\n",
    "        k_alias_v_official[a].add(gene)\n",
    "\n",
    "final_k_alias_v_official = {gene: list(aliases) for gene, aliases in k_alias_v_official.items()}"
   ]
  },
  {
   "cell_type": "code",
   "execution_count": 13,
   "id": "forty-criminal",
   "metadata": {},
   "outputs": [],
   "source": [
    "now =  datetime.datetime.now()\n",
    "access_log = {\n",
    "    'date_accessed': now.strftime(\"%b %d %Y %H:%M:%S\"),\n",
    "    'num_approved_symbols': len(k_symbol_v_aliases),\n",
    "    'num_all_symbols': len(final_k_alias_v_official),\n",
    "}\n",
    "\n",
    "results = {\n",
    "    'access_log': access_log,\n",
    "    'data': final_k_alias_v_official\n",
    "}\n",
    "\n",
    "with open(f'results.json', 'w') as fp:\n",
    "        json.dump(results, fp)"
   ]
  },
  {
   "cell_type": "code",
   "execution_count": 14,
   "id": "spiritual-google",
   "metadata": {},
   "outputs": [
    {
     "data": {
      "text/plain": [
       "{'date_accessed': 'Feb 11 2021 10:54:45',\n",
       " 'num_approved_symbols': 42423,\n",
       " 'num_all_symbols': 97268}"
      ]
     },
     "execution_count": 14,
     "metadata": {},
     "output_type": "execute_result"
    }
   ],
   "source": [
    "results['access_log']"
   ]
  },
  {
   "cell_type": "markdown",
   "id": "civilian-geography",
   "metadata": {},
   "source": [
    "**Background**\n",
    "\n",
    "Seurat R toolkit for single cell genomics\n",
    "https://satijalab.org/seurat/\n",
    "https://www.rdocumentation.org/packages/Seurat/versions/4.0.0/topics/UpdateSymbolList\n",
    "\n",
    "\"For each symbol passed, we query the HGNC gene names database for current symbols that have the provided symbol as either an alias (alias_symbol) or old (prev_symbol) symbol. All other queries are not supported.\"\n",
    "\n",
    "Stuart*, Butler*, et al., Cell 2019 [Seurat V3]"
   ]
  }
 ],
 "metadata": {
  "kernelspec": {
   "display_name": "Python 3",
   "language": "python",
   "name": "python3"
  },
  "language_info": {
   "codemirror_mode": {
    "name": "ipython",
    "version": 3
   },
   "file_extension": ".py",
   "mimetype": "text/x-python",
   "name": "python",
   "nbconvert_exporter": "python",
   "pygments_lexer": "ipython3",
   "version": "3.7.8"
  }
 },
 "nbformat": 4,
 "nbformat_minor": 5
}

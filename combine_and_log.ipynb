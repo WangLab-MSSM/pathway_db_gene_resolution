{
 "cells": [
  {
   "cell_type": "code",
   "execution_count": 26,
   "id": "secondary-despite",
   "metadata": {},
   "outputs": [],
   "source": [
    "import pickle\n",
    "import pandas as pd\n",
    "import shutil\n",
    "import json"
   ]
  },
  {
   "cell_type": "code",
   "execution_count": 27,
   "id": "foster-fisher",
   "metadata": {},
   "outputs": [],
   "source": [
    "logging = []\n",
    "\n",
    "dbs = ['Hallmark', 'KEGG', 'PanCancer', 'Reactome', 'TGFb signatures', 'PhosphositePlus']\n",
    "\n",
    "protected = ['PanCancer', 'TGFb signatures']\n",
    "\n",
    "for db in dbs:\n",
    "    json_f = f'gene_mapped/{db}/access_log.json'\n",
    "    if db in protected:\n",
    "        changelog_link = 'Not publicly available'\n",
    "    else:\n",
    "        changelog_link = f'https://github.com/WangLab-MSSM/pathway_db_gene_resolution/blob/main/gene_mapped/{db}/changelog.tsv'\n",
    "    with open(json_f) as json_file: \n",
    "        access_log = json.load(json_file) \n",
    "    db_log = {\n",
    "        'db': db,\n",
    "        'db_date_accessed': access_log['db_date_accessed'],\n",
    "        'HGNC_date_accessed': access_log['HGNC_date_accessed'],\n",
    "        'Date_gene_mapped': access_log['Date_gene_mapped'],\n",
    "        'changelog_link': changelog_link\n",
    "    }\n",
    "    logging.append(db_log)\n",
    "    \n",
    "    if db == 'PhosphositePlus':\n",
    "        shutil.copyfile(f'gene_mapped/{db}/{db}.tsv', f'gene_mapped/combined/{db}.tsv')\n",
    "    else:\n",
    "        shutil.copyfile(f'gene_mapped/{db}/{db}.gmt', f'gene_mapped/combined/{db}.gmt')"
   ]
  },
  {
   "cell_type": "code",
   "execution_count": 28,
   "id": "lasting-deposit",
   "metadata": {},
   "outputs": [],
   "source": [
    "pd.DataFrame(logging).to_csv('gene_mapped/combined/Gene_resolution_log.tsv', sep='\\t', index=False)"
   ]
  },
  {
   "cell_type": "code",
   "execution_count": null,
   "id": "decimal-registrar",
   "metadata": {},
   "outputs": [],
   "source": []
  }
 ],
 "metadata": {
  "kernelspec": {
   "display_name": "Python 3",
   "language": "python",
   "name": "python3"
  },
  "language_info": {
   "codemirror_mode": {
    "name": "ipython",
    "version": 3
   },
   "file_extension": ".py",
   "mimetype": "text/x-python",
   "name": "python",
   "nbconvert_exporter": "python",
   "pygments_lexer": "ipython3",
   "version": "3.7.8"
  }
 },
 "nbformat": 4,
 "nbformat_minor": 5
}

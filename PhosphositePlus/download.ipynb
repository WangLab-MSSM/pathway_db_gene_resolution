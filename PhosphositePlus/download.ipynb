{
 "cells": [
  {
   "cell_type": "code",
   "execution_count": 90,
   "id": "living-compensation",
   "metadata": {},
   "outputs": [],
   "source": [
    "import datetime\n",
    "import zipfile\n",
    "import urllib.request\n",
    "import shutil\n",
    "import csv\n",
    "import json\n",
    "\n",
    "import pickle"
   ]
  },
  {
   "cell_type": "code",
   "execution_count": 91,
   "id": "disciplinary-rocket",
   "metadata": {},
   "outputs": [],
   "source": [
    "import gzip\n",
    "import shutil\n",
    "file_name = 'Kinase_Substrate_Dataset.gz'\n",
    "with gzip.open(file_name, 'rb') as f_in:\n",
    "    with open('Kinase_Substrate_Dataset', 'wb') as f_out:\n",
    "        shutil.copyfileobj(f_in, f_out)\n",
    "        \n",
    "with open('Kinase_Substrate_Dataset', 'rb') as f:\n",
    "    date_accessed = f.readline().strip().decode('utf-8')"
   ]
  },
  {
   "cell_type": "code",
   "execution_count": 92,
   "id": "knowing-angle",
   "metadata": {},
   "outputs": [],
   "source": [
    "import pandas as pd"
   ]
  },
  {
   "cell_type": "code",
   "execution_count": 93,
   "id": "important-seeking",
   "metadata": {},
   "outputs": [],
   "source": [
    "# filter where substrate organism and kinase organism are both human\n",
    "\n",
    "df = pd.read_csv('Kinase_Substrate_Dataset', sep='\\t', skiprows=3)\n",
    "df = df[df['SUB_ORGANISM'] == 'human']\n",
    "df = df[df['KIN_ORGANISM'] == 'human']"
   ]
  },
  {
   "cell_type": "code",
   "execution_count": 94,
   "id": "close-warner",
   "metadata": {},
   "outputs": [],
   "source": [
    "hgnc = json.load(open('../HGNC/results.json'))\n",
    "k_alias_v_approvedSymbol = hgnc['data']\n",
    "hgnc_readme = hgnc['access_log']"
   ]
  },
  {
   "cell_type": "code",
   "execution_count": 95,
   "id": "adolescent-marketplace",
   "metadata": {},
   "outputs": [],
   "source": [
    "\n",
    "def map_genes(genes):\n",
    "    not_found = []\n",
    "    result = []\n",
    "    changed = {}\n",
    "    for gene in genes:\n",
    "        if gene not in k_alias_v_approvedSymbol:\n",
    "            not_found.append(gene)\n",
    "            result.append(gene)\n",
    "        else:\n",
    "            approved_symbol = k_alias_v_approvedSymbol[gene][0]\n",
    "            result.append(gene)\n",
    "            if approved_symbol != gene:\n",
    "                changed[gene] = approved_symbol\n",
    "    change_tracking = {\n",
    "        'len_changed': len(changed),\n",
    "        'len_not_found': len(not_found),\n",
    "        'not_found': not_found,\n",
    "        'changed': changed,\n",
    "    }\n",
    "    return result, change_tracking\n"
   ]
  },
  {
   "cell_type": "code",
   "execution_count": 96,
   "id": "asian-preliminary",
   "metadata": {},
   "outputs": [],
   "source": [
    "kinase_genes = list(df['GENE'])\n",
    "substrate_genes = list(df['SUB_GENE'])\n",
    "\n",
    "kinase_genes_mapped, kinase_log = map_genes(kinase_genes)\n",
    "substrate_genes_mapped, substrate_log = map_genes(substrate_genes)\n",
    "\n",
    "if len(kinase_genes) != len(kinase_genes_mapped):\n",
    "    raise RuntimeError('The mapped kinase genes do not match original length')\n",
    "if len(substrate_genes) != len(substrate_genes_mapped):\n",
    "    raise RuntimeError('The mapped substrate genes do not match original length')\n",
    "\n",
    "pathway_change_tracking = {\n",
    "    'kinase': kinase_log,\n",
    "    'substrate': substrate_log,\n",
    "}\n",
    "\n",
    "df['GENE'] = kinase_genes\n",
    "df['SUB_GENE'] = substrate_genes\n"
   ]
  },
  {
   "cell_type": "code",
   "execution_count": 97,
   "id": "sapphire-swiss",
   "metadata": {},
   "outputs": [],
   "source": [
    "db = 'PhosphositePlus'\n",
    "readme_logging = {\n",
    "    'db': db,\n",
    "    'db_date_accessed': datetime.datetime.now().strftime(\"%b %d %Y %H:%M:%S\"),                \n",
    "    'HGNC_date_accessed': hgnc_readme['date_accessed'],\n",
    "    'Date_gene_mapped': datetime.datetime.now().strftime(\"%b %d %Y %H:%M:%S\"),\n",
    "}\n",
    "with open(f'../gene_mapped/PhosphositePlus/access_log.json', 'w') as fp:\n",
    "    json.dump(readme_logging, fp)"
   ]
  },
  {
   "cell_type": "code",
   "execution_count": 98,
   "id": "metropolitan-platinum",
   "metadata": {},
   "outputs": [],
   "source": [
    "pd.DataFrame.from_dict(pathway_change_tracking).T.to_csv(f'../gene_mapped/{db}/changelog.tsv', sep='\\t')\n"
   ]
  },
  {
   "cell_type": "code",
   "execution_count": 99,
   "id": "academic-walnut",
   "metadata": {},
   "outputs": [],
   "source": [
    "df.to_csv(f'../gene_mapped/{db}/{db}.tsv', sep='\\t', index=False)"
   ]
  },
  {
   "cell_type": "code",
   "execution_count": 100,
   "id": "removable-samoa",
   "metadata": {},
   "outputs": [
    {
     "data": {
      "text/plain": [
       "'PhosphositePlus'"
      ]
     },
     "execution_count": 100,
     "metadata": {},
     "output_type": "execute_result"
    }
   ],
   "source": [
    "db"
   ]
  },
  {
   "cell_type": "code",
   "execution_count": null,
   "id": "golden-history",
   "metadata": {},
   "outputs": [],
   "source": []
  }
 ],
 "metadata": {
  "kernelspec": {
   "display_name": "Python 3",
   "language": "python",
   "name": "python3"
  },
  "language_info": {
   "codemirror_mode": {
    "name": "ipython",
    "version": 3
   },
   "file_extension": ".py",
   "mimetype": "text/x-python",
   "name": "python",
   "nbconvert_exporter": "python",
   "pygments_lexer": "ipython3",
   "version": "3.7.8"
  }
 },
 "nbformat": 4,
 "nbformat_minor": 5
}
